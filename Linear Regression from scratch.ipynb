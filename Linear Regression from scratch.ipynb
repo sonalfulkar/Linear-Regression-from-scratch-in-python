{
 "cells": [
  {
   "cell_type": "markdown",
   "metadata": {},
   "source": [
    "# Linear Regression with the help of gradient descent\n",
    "Basics collected from - https://khanacademy.org/math/statistics-probability \n",
    "and \n",
    "https://developers.google.com/machine-learning/crash-course"
   ]
  },
  {
   "cell_type": "code",
   "execution_count": 23,
   "metadata": {},
   "outputs": [
    {
     "name": "stdout",
     "output_type": "stream",
     "text": [
      "Starting gradient descent at b = 0, m = 0, error = 5565.107834490552\n",
      "Running...\n",
      "After 100 iterations b = 0.03507497059521459, m = 1.4788027175308887, error = 112.64705662802109\n"
     ]
    }
   ],
   "source": [
    "# import basic math functions\n",
    "from numpy import *\n",
    "\n",
    "# line equation - y = mx + b -- (x, y) is the random point on a 2D plane\n",
    "# and m is slope, b is y-intercept        \n",
    "\n",
    "# calculate the error of the line from each point plotted\n",
    "def pointwise_error(b, m, points):\n",
    "    totalError = 0\n",
    "    for i in range(0, len(points)):\n",
    "        x = points[i, 0] # get X\n",
    "        y = points[i, 1] # get Y\n",
    "        totalError += (y - (m * x + b)) ** 2 # squared error, as we need to see magnitude of error\n",
    "    return totalError / float(len(points)) # average it out\n",
    "\n",
    "# take steps towards points by learningRate \n",
    "def step_gradient(b_current, m_current, points, learning_rate):\n",
    "    b_gradient = 0\n",
    "    m_gradient = 0\n",
    "    N = float(len(points))\n",
    "    for i in range(0, len(points)):\n",
    "        x = points[i, 0]\n",
    "        y = points[i, 1]\n",
    "        b_gradient += -(2/N) * (y - ((m_current * x) + b_current))\n",
    "        m_gradient += -(2/N) * x * (y - ((m_current * x) + b_current))\n",
    "        # advance the line based on calculated gradient \n",
    "    new_b = b_current - (learning_rate * b_gradient)\n",
    "    new_m = m_current - (learning_rate * m_gradient)\n",
    "    return [new_b, new_m]\n",
    "\n",
    "def gradient_descent_runner(points, starting_b, starting_m, learning_rate, num_iterations):\n",
    "    b = starting_b\n",
    "    m = starting_m\n",
    "    for i in range(num_iterations):\n",
    "        b, m = step_gradient(b, m, array(points), learning_rate)\n",
    "    return [b, m]\n",
    "\n",
    "# initialize b and m and start taking steps towards each point\n",
    "def run():\n",
    "    points = genfromtxt(\"random_num.csv\", delimiter=\",\")\n",
    "    learning_rate = 0.0001\n",
    "    initial_b = 0 # initial y-intercept\n",
    "    initial_m = 0 # initial slope\n",
    "    num_iterations = 100\n",
    "    print(\"Starting gradient descent at b = {0}, m = {1}, error = {2}\".format(initial_b, initial_m, pointwise_error(initial_b, initial_m, points)))\n",
    "    print(\"Running...\")\n",
    "    [b, m] = gradient_descent_runner(points, initial_b, initial_m, learning_rate, num_iterations)\n",
    "    print(\"After {0} iterations b = {1}, m = {2}, error = {3}\".format(num_iterations, b, m, pointwise_error(b, m, points)))\n",
    "\n",
    "if __name__ == '__main__':\n",
    "    run()"
   ]
  },
  {
   "cell_type": "code",
   "execution_count": null,
   "metadata": {},
   "outputs": [],
   "source": []
  }
 ],
 "metadata": {
  "kernelspec": {
   "display_name": "Python 3",
   "language": "python",
   "name": "python3"
  },
  "language_info": {
   "codemirror_mode": {
    "name": "ipython",
    "version": 3
   },
   "file_extension": ".py",
   "mimetype": "text/x-python",
   "name": "python",
   "nbconvert_exporter": "python",
   "pygments_lexer": "ipython3",
   "version": "3.7.3"
  }
 },
 "nbformat": 4,
 "nbformat_minor": 2
}
